{
 "cells": [
  {
   "cell_type": "markdown",
   "id": "98d13cb1",
   "metadata": {},
   "source": [
    "## Request 1: Join RACM_A and RACM_B to compare if there are changes in start-date, end-date or both and split into multiple csv files\n",
    "\n",
    "## Request 2: Add GIM database to the joint RACM data from request 1\n",
    "  \n",
    "## Request 3: Join RACM_A to GIM; Join RACM_B to GIM\n",
    "* Have the option to export one csv with all information or split into multiple csvs - one for each country"
   ]
  },
  {
   "cell_type": "markdown",
   "id": "10f5a59a",
   "metadata": {},
   "source": [
    "# Plan:\n",
    "### 1. Create functions that can be called to perform a specific task \n",
    "Functions: \n",
    "    a. To create \"Key\" by joining UPN and ConFig columns. Reason: each row of data has unique UPN and ConFig #s, if the record is repeated twice, it means that there is a change in etiher the start or end date. \n",
    "    b. To set index to Key for dataframe\n",
    "    c. Join the RACM_A dataframe to the RACM_B dataframe\n",
    "    d. Compare the Start Date with End Date \n",
    "    e. Separate data for each country\n",
    "    f. Export data into excel. Each country will have its own excel (92) + (1) master record\n",
    "### 2. Request 1:Join RACM_A and RACM_B to compare if start date and/or end date changed and split into multiple csv files\n",
    "    a. Import datasets \n",
    "    b. Create a column Key to join with the second dataset.\n",
    "    c. Create a column IPN by comning UPN with ConFig. This will be a temporary product registration code.\n",
    "    d. Retain RACM string data for process checking\n",
    "    e. Remove the empty column\n",
    "    f. Change the date format\n",
    "    g. Remove the leading \"0\" from UPN so that it can be set as index for joining GIM data. GIM[\"ItemId'] does not have the leading \"0\". \n",
    "    h. Join the two datasets. \n",
    "    i. Export the data as one file\n",
    "    j. Export the data as multiple files (one per country)\n",
    "    k. Create a dataframe for only rows that have different start-date and/or end_date\n",
    "### 3. Request 2: Add GIM database to the joint RACM data from request 1\n",
    "    a. Import GIM data\n",
    "    b. Change te Catalog Number column to string\n",
    "    c. Set CatalogNumber as index but also keep the CatalogNumber column in the data\n",
    "    d. Select columns of interest\n",
    "    e. Left join GIM with the combined RACM so RACM does not get dropped in case GIM data is missing\n",
    "    f. Export the data as one file\n",
    "### 4. Request 3: Join RACM_A to GIM and Join RACM_B to GIM\n",
    "Both RACM datasets are joined to GIM individually by the following steps:\n",
    "    a. RACM: Set UPN as index\n",
    "    b. GIM: Set CatalogNumber as index\n",
    "    c. Join the RACM with GIM by index\n",
    "    d. Export data as individual files"
   ]
  },
  {
   "cell_type": "markdown",
   "id": "recorded-alcohol",
   "metadata": {},
   "source": [
    "# 2. List of Libraries"
   ]
  },
  {
   "cell_type": "code",
   "execution_count": 1,
   "id": "expired-husband",
   "metadata": {},
   "outputs": [],
   "source": [
    "import pandas as pd\n",
    "import numpy as np\n",
    "import matplotlib.pyplot as plt\n",
    "import os, math\n",
    "from collections import Counter"
   ]
  },
  {
   "cell_type": "markdown",
   "id": "colored-oracle",
   "metadata": {},
   "source": [
    "# 3. List of Functions"
   ]
  },
  {
   "cell_type": "code",
   "execution_count": 2,
   "id": "blind-bridge",
   "metadata": {},
   "outputs": [],
   "source": [
    "def date_change(ddmmyyyy):\n",
    "    # This function changes dd-mm-yyyy to mm-dd-yyyy format\n",
    "    x = ddmmyyyy.split(\"/\")\n",
    "    return x[1]+\"/\"+x[0]+\"/\"+x[2]"
   ]
  },
  {
   "cell_type": "code",
   "execution_count": 3,
   "id": "comprehensive-partition",
   "metadata": {},
   "outputs": [],
   "source": [
    "def read_csv(file_path):\n",
    "    df = pd.read_csv(file_path, sep='|', names=['Country Code', 'UPN', 'ConFig', 'Empty', 'Start Date', 'End Date'])\n",
    "    # Create ConFig column\n",
    "    df[\"Key\"] = df[\"Country Code\"] + df[\"UPN\"] + df[\"ConFig\"]\n",
    "    df[\"IPN\"] = df[\"UPN\"] + '-' + df[\"ConFig\"]\n",
    "    # Add the original data\n",
    "    df_ = pd.read_csv(file_path, names = [\"Original Data\"])\n",
    "    df[\"Original Data\"] = df_[\"Original Data\"]\n",
    "    del df[\"Empty\"]\n",
    "    # Change the date format\n",
    "    df[\"Start Date\"] = df[\"Start Date\"].apply(date_change)\n",
    "    df[\"End Date\"] = df[\"End Date\"].apply(date_change)\n",
    "    # Remove \"0\" in front of any UPN that starts with \"0\" before combining with GIM columns because GIM[Catalog]\\\n",
    "    # does not have the leading \"0\". \n",
    "    df[\"UPN\"] = [s.lstrip(\"0\") for s in df[\"UPN\"]]\n",
    "    # Set key as index and drop the key\n",
    "    df = df.set_index(\"Key\", drop = True)\n",
    "    return df"
   ]
  },
  {
   "cell_type": "code",
   "execution_count": 4,
   "id": "mighty-frederick",
   "metadata": {},
   "outputs": [],
   "source": [
    "def choose_country_code(row):\n",
    "    if row[\"Country Code_A\"]==\"\":\n",
    "        return row[\"Country Code_B\"]\n",
    "    else:\n",
    "        return row[\"Country Code_A\"]\n",
    "\n",
    "def choose_UPN(row):\n",
    "    if row[\"UPN_A\"]==\"\":\n",
    "        return row[\"UPN_B\"]\n",
    "    else:\n",
    "        return row[\"UPN_A\"]\n",
    "    \n",
    "def choose_IPN(row):\n",
    "    if row[\"IPN_A\"]==\"\":\n",
    "        return row[\"IPN_B\"]\n",
    "    else:\n",
    "        return row[\"IPN_A\"]\n",
    "\n",
    "def frequency_graph(s):\n",
    "    \"\"\"\n",
    "    This finction will generate a bar graph. X: Country, Y: Frequency (number of time the data is processed)\n",
    "    input : s: pandas.Series\n",
    "    \"\"\"\n",
    "    s = RACM_AB[\"Country Code\"]\n",
    "    x = Counter(list(s))\n",
    "    y = list(x.items())\n",
    "    y.sort(key=lambda x: -x[1])\n",
    "    plt.figure(figsize=(25,5))\n",
    "    plt.bar([val[0] for val in y], [val[1] for val in y])\n",
    "    plt.xlabel('Country Code')\n",
    "    plt.ylabel('Frequency')\n",
    "    plt.grid(True)\n",
    "    plt.show()"
   ]
  },
  {
   "cell_type": "markdown",
   "id": "bacterial-capital",
   "metadata": {},
   "source": [
    "# 4. Import Data"
   ]
  },
  {
   "cell_type": "markdown",
   "id": "existing-average",
   "metadata": {},
   "source": [
    "## 4.1 Dataset for RACM_A"
   ]
  },
  {
   "cell_type": "markdown",
   "id": "lyric-answer",
   "metadata": {},
   "source": [
    "Create dataframes for each excel, label the columns, and remove empty columns"
   ]
  },
  {
   "cell_type": "code",
   "execution_count": 6,
   "id": "authorized-finance",
   "metadata": {},
   "outputs": [
    {
     "data": {
      "text/html": [
       "<div>\n",
       "<style scoped>\n",
       "    .dataframe tbody tr th:only-of-type {\n",
       "        vertical-align: middle;\n",
       "    }\n",
       "\n",
       "    .dataframe tbody tr th {\n",
       "        vertical-align: top;\n",
       "    }\n",
       "\n",
       "    .dataframe thead th {\n",
       "        text-align: right;\n",
       "    }\n",
       "</style>\n",
       "<table border=\"1\" class=\"dataframe\">\n",
       "  <thead>\n",
       "    <tr style=\"text-align: right;\">\n",
       "      <th></th>\n",
       "      <th>Country Code</th>\n",
       "      <th>UPN</th>\n",
       "      <th>ConFig</th>\n",
       "      <th>Start Date</th>\n",
       "      <th>End Date</th>\n",
       "      <th>IPN</th>\n",
       "      <th>Original Data</th>\n",
       "    </tr>\n",
       "    <tr>\n",
       "      <th>Key</th>\n",
       "      <th></th>\n",
       "      <th></th>\n",
       "      <th></th>\n",
       "      <th></th>\n",
       "      <th></th>\n",
       "      <th></th>\n",
       "      <th></th>\n",
       "    </tr>\n",
       "  </thead>\n",
       "  <tbody>\n",
       "    <tr>\n",
       "      <th>AE077.0082|C1</th>\n",
       "      <td>AE</td>\n",
       "      <td>77.0082</td>\n",
       "      <td>C1</td>\n",
       "      <td>04/05/2021</td>\n",
       "      <td>01/26/2025</td>\n",
       "      <td>077.0082-C1</td>\n",
       "      <td>AE|077.0082|C1||05/04/2021|26/01/2025</td>\n",
       "    </tr>\n",
       "    <tr>\n",
       "      <th>AR077.0082|C1</th>\n",
       "      <td>AR</td>\n",
       "      <td>77.0082</td>\n",
       "      <td>C1</td>\n",
       "      <td>12/23/2020</td>\n",
       "      <td>12/31/9999</td>\n",
       "      <td>077.0082-C1</td>\n",
       "      <td>AR|077.0082|C1||23/12/2020|31/12/9999</td>\n",
       "    </tr>\n",
       "    <tr>\n",
       "      <th>AR077.0082|C2</th>\n",
       "      <td>AR</td>\n",
       "      <td>77.0082</td>\n",
       "      <td>C2</td>\n",
       "      <td>08/02/2022</td>\n",
       "      <td>12/31/9999</td>\n",
       "      <td>077.0082-C2</td>\n",
       "      <td>AR|077.0082|C2||02/08/2022|31/12/9999</td>\n",
       "    </tr>\n",
       "    <tr>\n",
       "      <th>AT077.0082|C1</th>\n",
       "      <td>AT</td>\n",
       "      <td>77.0082</td>\n",
       "      <td>C1</td>\n",
       "      <td>12/23/2020</td>\n",
       "      <td>05/26/2025</td>\n",
       "      <td>077.0082-C1</td>\n",
       "      <td>AT|077.0082|C1||23/12/2020|26/05/2025</td>\n",
       "    </tr>\n",
       "    <tr>\n",
       "      <th>AT077.0082|C2</th>\n",
       "      <td>AT</td>\n",
       "      <td>77.0082</td>\n",
       "      <td>C2</td>\n",
       "      <td>10/28/2021</td>\n",
       "      <td>12/31/9999</td>\n",
       "      <td>077.0082-C2</td>\n",
       "      <td>AT|077.0082|C2||28/10/2021|31/12/9999</td>\n",
       "    </tr>\n",
       "    <tr>\n",
       "      <th>...</th>\n",
       "      <td>...</td>\n",
       "      <td>...</td>\n",
       "      <td>...</td>\n",
       "      <td>...</td>\n",
       "      <td>...</td>\n",
       "      <td>...</td>\n",
       "      <td>...</td>\n",
       "    </tr>\n",
       "    <tr>\n",
       "      <th>USSSUP300STR|S3</th>\n",
       "      <td>US</td>\n",
       "      <td>SSUP300STR</td>\n",
       "      <td>S3</td>\n",
       "      <td>08/29/2022</td>\n",
       "      <td>12/31/9999</td>\n",
       "      <td>SSUP300STR-S3</td>\n",
       "      <td>US|SSUP300STR|S3||29/08/2022|31/12/9999</td>\n",
       "    </tr>\n",
       "    <tr>\n",
       "      <th>XISSUP300STR|S2</th>\n",
       "      <td>XI</td>\n",
       "      <td>SSUP300STR</td>\n",
       "      <td>S2</td>\n",
       "      <td>05/20/2021</td>\n",
       "      <td>12/31/9999</td>\n",
       "      <td>SSUP300STR-S2</td>\n",
       "      <td>XI|SSUP300STR|S2||20/05/2021|31/12/9999</td>\n",
       "    </tr>\n",
       "    <tr>\n",
       "      <th>XISSUP300STR|S3</th>\n",
       "      <td>XI</td>\n",
       "      <td>SSUP300STR</td>\n",
       "      <td>S3</td>\n",
       "      <td>08/29/2022</td>\n",
       "      <td>12/31/9999</td>\n",
       "      <td>SSUP300STR-S3</td>\n",
       "      <td>XI|SSUP300STR|S3||29/08/2022|31/12/9999</td>\n",
       "    </tr>\n",
       "    <tr>\n",
       "      <th>ZASSUP300STR|S2</th>\n",
       "      <td>ZA</td>\n",
       "      <td>SSUP300STR</td>\n",
       "      <td>S2</td>\n",
       "      <td>12/14/2021</td>\n",
       "      <td>12/31/9999</td>\n",
       "      <td>SSUP300STR-S2</td>\n",
       "      <td>ZA|SSUP300STR|S2||14/12/2021|31/12/9999</td>\n",
       "    </tr>\n",
       "    <tr>\n",
       "      <th>ZASSUP300STR|S3</th>\n",
       "      <td>ZA</td>\n",
       "      <td>SSUP300STR</td>\n",
       "      <td>S3</td>\n",
       "      <td>08/29/2022</td>\n",
       "      <td>12/31/9999</td>\n",
       "      <td>SSUP300STR-S3</td>\n",
       "      <td>ZA|SSUP300STR|S3||29/08/2022|31/12/9999</td>\n",
       "    </tr>\n",
       "  </tbody>\n",
       "</table>\n",
       "<p>454930 rows × 7 columns</p>\n",
       "</div>"
      ],
      "text/plain": [
       "                Country Code         UPN ConFig  Start Date    End Date  \\\n",
       "Key                                                                       \n",
       "AE077.0082|C1             AE     77.0082     C1  04/05/2021  01/26/2025   \n",
       "AR077.0082|C1             AR     77.0082     C1  12/23/2020  12/31/9999   \n",
       "AR077.0082|C2             AR     77.0082     C2  08/02/2022  12/31/9999   \n",
       "AT077.0082|C1             AT     77.0082     C1  12/23/2020  05/26/2025   \n",
       "AT077.0082|C2             AT     77.0082     C2  10/28/2021  12/31/9999   \n",
       "...                      ...         ...    ...         ...         ...   \n",
       "USSSUP300STR|S3           US  SSUP300STR     S3  08/29/2022  12/31/9999   \n",
       "XISSUP300STR|S2           XI  SSUP300STR     S2  05/20/2021  12/31/9999   \n",
       "XISSUP300STR|S3           XI  SSUP300STR     S3  08/29/2022  12/31/9999   \n",
       "ZASSUP300STR|S2           ZA  SSUP300STR     S2  12/14/2021  12/31/9999   \n",
       "ZASSUP300STR|S3           ZA  SSUP300STR     S3  08/29/2022  12/31/9999   \n",
       "\n",
       "                           IPN                            Original Data  \n",
       "Key                                                                      \n",
       "AE077.0082|C1      077.0082-C1    AE|077.0082|C1||05/04/2021|26/01/2025  \n",
       "AR077.0082|C1      077.0082-C1    AR|077.0082|C1||23/12/2020|31/12/9999  \n",
       "AR077.0082|C2      077.0082-C2    AR|077.0082|C2||02/08/2022|31/12/9999  \n",
       "AT077.0082|C1      077.0082-C1    AT|077.0082|C1||23/12/2020|26/05/2025  \n",
       "AT077.0082|C2      077.0082-C2    AT|077.0082|C2||28/10/2021|31/12/9999  \n",
       "...                        ...                                      ...  \n",
       "USSSUP300STR|S3  SSUP300STR-S3  US|SSUP300STR|S3||29/08/2022|31/12/9999  \n",
       "XISSUP300STR|S2  SSUP300STR-S2  XI|SSUP300STR|S2||20/05/2021|31/12/9999  \n",
       "XISSUP300STR|S3  SSUP300STR-S3  XI|SSUP300STR|S3||29/08/2022|31/12/9999  \n",
       "ZASSUP300STR|S2  SSUP300STR-S2  ZA|SSUP300STR|S2||14/12/2021|31/12/9999  \n",
       "ZASSUP300STR|S3  SSUP300STR-S3  ZA|SSUP300STR|S3||29/08/2022|31/12/9999  \n",
       "\n",
       "[454930 rows x 7 columns]"
      ]
     },
     "execution_count": 6,
     "metadata": {},
     "output_type": "execute_result"
    }
   ],
   "source": [
    "# Import and create column names ## OLDEST FILE\n",
    "RACM_A = pd.read_csv(r\"C:\\Users\\kpham\\Desktop\\12OCT2022 - TAN_CODE\\RACMUPDATE_12OCT2022.txt\", sep='|', names=['Country Code', 'UPN', 'ConFig', 'Empty', 'Start Date', 'End Date'])\n",
    "# Create Key and IPN columns\n",
    "RACM_A[\"Key\"] = RACM_A[\"Country Code\"]+ RACM_A[\"UPN\"]+ \"|\" + RACM_A[\"ConFig\"]\n",
    "RACM_A[\"IPN\"] = RACM_A[\"UPN\"] + '-' + RACM_A[\"ConFig\"]\n",
    "# Add the original data\n",
    "RACM_A_ = pd.read_csv(r\"C:\\Users\\kpham\\Desktop\\12OCT2022 - TAN_CODE\\RACMUPDATE_12OCT2022.txt\", names = [\"Original Data\"])\n",
    "RACM_A[\"Original Data\"] = RACM_A_[\"Original Data\"]\n",
    "del RACM_A[\"Empty\"]\n",
    "# Change the date format\n",
    "RACM_A[\"Start Date\"] = RACM_A[\"Start Date\"].apply(date_change)\n",
    "RACM_A[\"End Date\"] = RACM_A[\"End Date\"].apply(date_change)\n",
    "# Remove \"0\" in front of any UPN that starts with \"0\" before combining with GIM columns because GIM[Catalog] does not have \\\n",
    "# the leading \"0\". \n",
    "RACM_A[\"UPN\"] = [s.lstrip(\"0\") for s in RACM_A[\"UPN\"]]\n",
    "# Set key as index and drop the key\n",
    "RACM_A = RACM_A.set_index(\"Key\", drop = True)\n",
    "RACM_A"
   ]
  },
  {
   "cell_type": "markdown",
   "id": "comparative-liability",
   "metadata": {},
   "source": [
    "## 4.2 Dataset for RACM_B"
   ]
  },
  {
   "cell_type": "code",
   "execution_count": 7,
   "id": "champion-given",
   "metadata": {},
   "outputs": [
    {
     "data": {
      "text/html": [
       "<div>\n",
       "<style scoped>\n",
       "    .dataframe tbody tr th:only-of-type {\n",
       "        vertical-align: middle;\n",
       "    }\n",
       "\n",
       "    .dataframe tbody tr th {\n",
       "        vertical-align: top;\n",
       "    }\n",
       "\n",
       "    .dataframe thead th {\n",
       "        text-align: right;\n",
       "    }\n",
       "</style>\n",
       "<table border=\"1\" class=\"dataframe\">\n",
       "  <thead>\n",
       "    <tr style=\"text-align: right;\">\n",
       "      <th></th>\n",
       "      <th>Country Code</th>\n",
       "      <th>UPN</th>\n",
       "      <th>ConFig</th>\n",
       "      <th>Start Date</th>\n",
       "      <th>End Date</th>\n",
       "      <th>IPN</th>\n",
       "      <th>Original Data</th>\n",
       "    </tr>\n",
       "    <tr>\n",
       "      <th>Key</th>\n",
       "      <th></th>\n",
       "      <th></th>\n",
       "      <th></th>\n",
       "      <th></th>\n",
       "      <th></th>\n",
       "      <th></th>\n",
       "      <th></th>\n",
       "    </tr>\n",
       "  </thead>\n",
       "  <tbody>\n",
       "    <tr>\n",
       "      <th>AE077.0082|C1</th>\n",
       "      <td>AE</td>\n",
       "      <td>77.0082</td>\n",
       "      <td>C1</td>\n",
       "      <td>04/05/2021</td>\n",
       "      <td>01/26/2025</td>\n",
       "      <td>077.0082-C1</td>\n",
       "      <td>AE|077.0082|C1||05/04/2021|26/01/2025</td>\n",
       "    </tr>\n",
       "    <tr>\n",
       "      <th>AR077.0082|C1</th>\n",
       "      <td>AR</td>\n",
       "      <td>77.0082</td>\n",
       "      <td>C1</td>\n",
       "      <td>12/23/2020</td>\n",
       "      <td>12/31/9999</td>\n",
       "      <td>077.0082-C1</td>\n",
       "      <td>AR|077.0082|C1||23/12/2020|31/12/9999</td>\n",
       "    </tr>\n",
       "    <tr>\n",
       "      <th>AR077.0082|C2</th>\n",
       "      <td>AR</td>\n",
       "      <td>77.0082</td>\n",
       "      <td>C2</td>\n",
       "      <td>08/02/2022</td>\n",
       "      <td>12/31/9999</td>\n",
       "      <td>077.0082-C2</td>\n",
       "      <td>AR|077.0082|C2||02/08/2022|31/12/9999</td>\n",
       "    </tr>\n",
       "    <tr>\n",
       "      <th>AT077.0082|C1</th>\n",
       "      <td>AT</td>\n",
       "      <td>77.0082</td>\n",
       "      <td>C1</td>\n",
       "      <td>12/23/2020</td>\n",
       "      <td>05/26/2025</td>\n",
       "      <td>077.0082-C1</td>\n",
       "      <td>AT|077.0082|C1||23/12/2020|26/05/2025</td>\n",
       "    </tr>\n",
       "    <tr>\n",
       "      <th>AT077.0082|C2</th>\n",
       "      <td>AT</td>\n",
       "      <td>77.0082</td>\n",
       "      <td>C2</td>\n",
       "      <td>10/28/2021</td>\n",
       "      <td>12/31/9999</td>\n",
       "      <td>077.0082-C2</td>\n",
       "      <td>AT|077.0082|C2||28/10/2021|31/12/9999</td>\n",
       "    </tr>\n",
       "    <tr>\n",
       "      <th>...</th>\n",
       "      <td>...</td>\n",
       "      <td>...</td>\n",
       "      <td>...</td>\n",
       "      <td>...</td>\n",
       "      <td>...</td>\n",
       "      <td>...</td>\n",
       "      <td>...</td>\n",
       "    </tr>\n",
       "    <tr>\n",
       "      <th>USSSUP300STR|S3</th>\n",
       "      <td>US</td>\n",
       "      <td>SSUP300STR</td>\n",
       "      <td>S3</td>\n",
       "      <td>08/29/2022</td>\n",
       "      <td>12/31/9999</td>\n",
       "      <td>SSUP300STR-S3</td>\n",
       "      <td>US|SSUP300STR|S3||29/08/2022|31/12/9999</td>\n",
       "    </tr>\n",
       "    <tr>\n",
       "      <th>XISSUP300STR|S2</th>\n",
       "      <td>XI</td>\n",
       "      <td>SSUP300STR</td>\n",
       "      <td>S2</td>\n",
       "      <td>05/20/2021</td>\n",
       "      <td>12/31/9999</td>\n",
       "      <td>SSUP300STR-S2</td>\n",
       "      <td>XI|SSUP300STR|S2||20/05/2021|31/12/9999</td>\n",
       "    </tr>\n",
       "    <tr>\n",
       "      <th>XISSUP300STR|S3</th>\n",
       "      <td>XI</td>\n",
       "      <td>SSUP300STR</td>\n",
       "      <td>S3</td>\n",
       "      <td>08/29/2022</td>\n",
       "      <td>12/31/9999</td>\n",
       "      <td>SSUP300STR-S3</td>\n",
       "      <td>XI|SSUP300STR|S3||29/08/2022|31/12/9999</td>\n",
       "    </tr>\n",
       "    <tr>\n",
       "      <th>ZASSUP300STR|S2</th>\n",
       "      <td>ZA</td>\n",
       "      <td>SSUP300STR</td>\n",
       "      <td>S2</td>\n",
       "      <td>12/14/2021</td>\n",
       "      <td>12/31/9999</td>\n",
       "      <td>SSUP300STR-S2</td>\n",
       "      <td>ZA|SSUP300STR|S2||14/12/2021|31/12/9999</td>\n",
       "    </tr>\n",
       "    <tr>\n",
       "      <th>ZASSUP300STR|S3</th>\n",
       "      <td>ZA</td>\n",
       "      <td>SSUP300STR</td>\n",
       "      <td>S3</td>\n",
       "      <td>08/29/2022</td>\n",
       "      <td>12/31/9999</td>\n",
       "      <td>SSUP300STR-S3</td>\n",
       "      <td>ZA|SSUP300STR|S3||29/08/2022|31/12/9999</td>\n",
       "    </tr>\n",
       "  </tbody>\n",
       "</table>\n",
       "<p>458518 rows × 7 columns</p>\n",
       "</div>"
      ],
      "text/plain": [
       "                Country Code         UPN ConFig  Start Date    End Date  \\\n",
       "Key                                                                       \n",
       "AE077.0082|C1             AE     77.0082     C1  04/05/2021  01/26/2025   \n",
       "AR077.0082|C1             AR     77.0082     C1  12/23/2020  12/31/9999   \n",
       "AR077.0082|C2             AR     77.0082     C2  08/02/2022  12/31/9999   \n",
       "AT077.0082|C1             AT     77.0082     C1  12/23/2020  05/26/2025   \n",
       "AT077.0082|C2             AT     77.0082     C2  10/28/2021  12/31/9999   \n",
       "...                      ...         ...    ...         ...         ...   \n",
       "USSSUP300STR|S3           US  SSUP300STR     S3  08/29/2022  12/31/9999   \n",
       "XISSUP300STR|S2           XI  SSUP300STR     S2  05/20/2021  12/31/9999   \n",
       "XISSUP300STR|S3           XI  SSUP300STR     S3  08/29/2022  12/31/9999   \n",
       "ZASSUP300STR|S2           ZA  SSUP300STR     S2  12/14/2021  12/31/9999   \n",
       "ZASSUP300STR|S3           ZA  SSUP300STR     S3  08/29/2022  12/31/9999   \n",
       "\n",
       "                           IPN                            Original Data  \n",
       "Key                                                                      \n",
       "AE077.0082|C1      077.0082-C1    AE|077.0082|C1||05/04/2021|26/01/2025  \n",
       "AR077.0082|C1      077.0082-C1    AR|077.0082|C1||23/12/2020|31/12/9999  \n",
       "AR077.0082|C2      077.0082-C2    AR|077.0082|C2||02/08/2022|31/12/9999  \n",
       "AT077.0082|C1      077.0082-C1    AT|077.0082|C1||23/12/2020|26/05/2025  \n",
       "AT077.0082|C2      077.0082-C2    AT|077.0082|C2||28/10/2021|31/12/9999  \n",
       "...                        ...                                      ...  \n",
       "USSSUP300STR|S3  SSUP300STR-S3  US|SSUP300STR|S3||29/08/2022|31/12/9999  \n",
       "XISSUP300STR|S2  SSUP300STR-S2  XI|SSUP300STR|S2||20/05/2021|31/12/9999  \n",
       "XISSUP300STR|S3  SSUP300STR-S3  XI|SSUP300STR|S3||29/08/2022|31/12/9999  \n",
       "ZASSUP300STR|S2  SSUP300STR-S2  ZA|SSUP300STR|S2||14/12/2021|31/12/9999  \n",
       "ZASSUP300STR|S3  SSUP300STR-S3  ZA|SSUP300STR|S3||29/08/2022|31/12/9999  \n",
       "\n",
       "[458518 rows x 7 columns]"
      ]
     },
     "execution_count": 7,
     "metadata": {},
     "output_type": "execute_result"
    }
   ],
   "source": [
    "# Import and create column names ## NEWEST FILE\n",
    "RACM_B = pd.read_csv(r\"C:\\Users\\kpham\\Desktop\\12OCT2022 - TAN_CODE\\RACMUPDATE_22NOV2022.txt\", sep='|', names=['Country Code', 'UPN', 'ConFig', 'Empty', 'Start Date', 'End Date'])\n",
    "# Create Key and IPN columns\n",
    "RACM_B[\"Key\"] = RACM_B[\"Country Code\"] + RACM_B[\"UPN\"] + \"|\" + RACM_B[\"ConFig\"]\n",
    "RACM_B[\"IPN\"] = RACM_B[\"UPN\"] + '-' + RACM_B[\"ConFig\"]\n",
    "# Add the original data\n",
    "RACM_B_ = pd.read_csv(r\"C:\\Users\\kpham\\Desktop\\12OCT2022 - TAN_CODE\\RACMUPDATE_22NOV2022.txt\", names = [\"Original Data\"])\n",
    "RACM_B[\"Original Data\"] = RACM_B_[\"Original Data\"]\n",
    "del RACM_B[\"Empty\"]\n",
    "# Change the date format\n",
    "RACM_B[\"Start Date\"] = RACM_B[\"Start Date\"].apply(date_change)\n",
    "RACM_B[\"End Date\"] = RACM_B[\"End Date\"].apply(date_change)\n",
    "# Remove \"0\" infront of any UPN that starts with \"0\" before combining with GIM columns because GIM[Catalog] does not have the leading \"0\". \n",
    "RACM_B[\"UPN\"] = [s.lstrip(\"0\") for s in RACM_B[\"UPN\"]]\n",
    "# Set key as index and drop the key\n",
    "RACM_B = RACM_B.set_index(\"Key\", drop = True)\n",
    "RACM_B"
   ]
  },
  {
   "cell_type": "markdown",
   "id": "union-charlotte",
   "metadata": {},
   "source": [
    "## 4.3 Dataset for GIM"
   ]
  },
  {
   "cell_type": "code",
   "execution_count": 9,
   "id": "sealed-accused",
   "metadata": {
    "scrolled": false
   },
   "outputs": [
    {
     "name": "stdout",
     "output_type": "stream",
     "text": [
      "<class 'pandas.core.frame.DataFrame'>\n",
      "Index: 12828 entries, H965100430 to XTG5414510\n",
      "Data columns (total 4 columns):\n",
      " #   Column           Non-Null Count  Dtype \n",
      "---  ------           --------------  ----- \n",
      " 0   ItemId           12828 non-null  int64 \n",
      " 1   CatalogNumber    12828 non-null  object\n",
      " 2   ItemType         11773 non-null  object\n",
      " 3   LongDescription  11929 non-null  object\n",
      "dtypes: int64(1), object(3)\n",
      "memory usage: 501.1+ KB\n"
     ]
    }
   ],
   "source": [
    "# Import GIM data\n",
    "GIM = pd.read_csv(r\"C:\\Users\\kpham\\Desktop\\12OCT2022 - TAN_CODE\\GIM_11OCT2022.csv\", sep=',')\n",
    "#Change the Catalog Number column to string\n",
    "GIM[\"CatalogNumber_index\"] = GIM[\"CatalogNumber\"].astype(str)\n",
    "#Set CatalogNumber as index but also keep the CatalogNumber column in the data\n",
    "GIM = GIM.set_index([\"CatalogNumber_index\"], drop = False)\n",
    "# Select columns of interest\n",
    "GIM = GIM[[\"ItemId\", \"CatalogNumber\", \"ItemType\", \"LongDescription\"]]\n",
    "GIM['ItemId']=GIM['ItemId']\n",
    "\n",
    "GIM\n",
    "GIM.info()\n",
    "#GIM['CatalogNumber'].unique()\n",
    "#for i in GIM['CatalogNumber']:\n",
    "    #print(i)\n"
   ]
  },
  {
   "cell_type": "code",
   "execution_count": null,
   "id": "8b670f54",
   "metadata": {},
   "outputs": [],
   "source": [
    "### Print dataset loaded for GIM\n",
    "# path = \"C:\\\\Users\\\\TNguyen5\\\\OneDrive - Stryker\\\\PYTHON\\\\Comparison\\\\Print_GIM\\\\GIM_PrintCurrentDataset.csv\"\n",
    "# GIM.to_csv(path, index = True)"
   ]
  },
  {
   "cell_type": "markdown",
   "id": "settled-ceremony",
   "metadata": {},
   "source": [
    "# 6. Request 1:Join RACM_A and RACM_B to compare if start date and/or end date changed. Split into multiple csv files."
   ]
  },
  {
   "cell_type": "markdown",
   "id": "derived-style",
   "metadata": {},
   "source": [
    "## 6.1 Combine RACM_A and RACM_B Data\n",
    "\n",
    "Purpose: to create a linkage between GIM and RACM. GIM: GIM ID, Item Type and Long Description to be added as additional columns to RACM"
   ]
  },
  {
   "cell_type": "code",
   "execution_count": null,
   "id": "stuffed-marketplace",
   "metadata": {},
   "outputs": [],
   "source": [
    "# Join two dataframes(RACM_A & RACM_B) with RACM_A on the left and RACM_B on the right\n",
    "RACM_AB = RACM_A.join(RACM_B, how='outer', lsuffix=\"_A\", rsuffix=\"_B\")\n",
    "\n",
    "#################################\n",
    "\n",
    "# Add a new column to capture the Start_Date change in RACM_A & RACM_B\n",
    "RACM_AB['Start Date Changed'] = (RACM_AB['Start Date_A']!=RACM_AB['Start Date_B'])\n",
    "\n",
    "# Add a new column to capture the End_Date change in RACM_A & RACM_B\n",
    "RACM_AB['End Date Changed'] = (RACM_AB['End Date_A']!=RACM_AB['End Date_B'])\n",
    "\n",
    "# Add a new column to capture if a product was removed from RACM_B, but existed in RACM_A\n",
    "RACM_AB['Product Removed'] = RACM_AB['UPN_B'].isna()\n",
    "\n",
    "# Add a new column to capture if a product was added to RACM_B, but was not in RACM_A\n",
    "RACM_AB['Product Added'] = RACM_AB['UPN_A'].isna()\n",
    "\n",
    "#Add a new column to capture if the raw data has changed between two files\n",
    "RACM_AB['RAW Data Changed'] = (RACM_AB['Original Data_A'] != RACM_AB['Original Data_B'])\n",
    "\n",
    "# Select only columns with either start_date change, end_date change or both. This is for information only.\n",
    "df_RACM_AB_Comparison = RACM_AB[RACM_AB['Start Date Changed']|RACM_AB['End Date Changed']]\n",
    "\n",
    "####################################\n",
    "# Create a column name Index to retain the information when exporting the data. Note: indexes in general will not be exported\n",
    "RACM_AB['Index'] = RACM_AB.index\n",
    "RACM_AB[\"Index\"].astype(str)\n",
    "\n",
    "#Create Country Code column that have data from both RACM_A and RACM_B\n",
    "RACM_AB[\"Country Code\"] = RACM_AB[\"Index\"].apply(lambda y: y[0:2])\n",
    "\n",
    "RACM_AB[\"Index\"] = RACM_AB[\"Index\"].apply(lambda y: y[2:])\n",
    "RACM_AB\n"
   ]
  },
  {
   "cell_type": "code",
   "execution_count": null,
   "id": "baking-brunei",
   "metadata": {},
   "outputs": [],
   "source": [
    "#RACM_AB[\"Index\"] = RACM_AB[\"Index\"].apply(lambda x: x.lstrip(\"0\"))\n",
    "RACM_AB[\"Index_GIM\"] = RACM_AB[\"Index\"].apply(lambda z: z.split(\"|\", 1)[0])\n",
    "RACM_AB[\"Index_GIM\"] = [s.lstrip(\"0\") for s in RACM_AB[\"Index_GIM\"]] # Remove the leading \"0\" since GIM does not ahev \"0\"\n",
    "RACM_AB = RACM_AB.set_index(\"Index_GIM\")"
   ]
  },
  {
   "cell_type": "code",
   "execution_count": null,
   "id": "disciplinary-threshold",
   "metadata": {},
   "outputs": [],
   "source": [
    "RACM_AB"
   ]
  },
  {
   "cell_type": "code",
   "execution_count": null,
   "id": "greatest-christianity",
   "metadata": {},
   "outputs": [],
   "source": [
    "# RACM_AB[\"IPN\"] = RACM_AB[\"Index\"].apply(lambda z: z.replace(\"|\", \"-\"))#.apply(lambda y: y[2:]).apply(lambda z: z.replace(\"|\", \"-\"))\n",
    "# RACM_AB"
   ]
  },
  {
   "cell_type": "code",
   "execution_count": null,
   "id": "sacred-lancaster",
   "metadata": {},
   "outputs": [],
   "source": [
    "#######edit with Kieu/Tan 06/02/2021#########\n",
    "\n",
    "# Create IPN and UPN columns that have data from both RACM_A and RACM_B\n",
    "RACM_AB[\"IPN\"] = RACM_AB[\"Index\"].apply(lambda z: z.replace(\"|\", \"-\"))#.apply(lambda y: y[2:]).apply(lambda z: z.replace(\"|\", \"-\"))\n",
    "\n",
    "RACM_AB[\"UPN\"] = RACM_AB[\"Index\"].apply(lambda z: z.split(\"|\", 1)[0])#.apply(lambda x: x.lstrip(\"0\"))\n",
    "RACM_AB[\"ConFig\"] = RACM_AB[\"Index\"].apply(lambda z: z.split(\"|\", 1)[1])\n",
    "#RACM_AB.drop(columns = [\"IPN_A\", \"UPN_A\", \"UPN_B\", \"IPN_B\"], inplace = True)\n",
    "\n",
    "RACM_AB['AB_Index'] = RACM_AB.index\n",
    "\n",
    "# Get a list of all unique countries for exporting by each country individually for graphing\n",
    "#RACM_AB['Country Code'] = RACM_AB.apply(choose_country_code, axis=1)\n",
    "country_list = RACM_AB[\"Country Code\"].unique()\n",
    "print(len(country_list))\n",
    "country_list\n",
    "\n",
    "RACM_AB['Country Code'] = RACM_AB['Country Code'].astype(str)\n",
    "List_of_Countries = RACM_AB['Country Code'].unique()\n",
    "\n",
    "# Change data from object to string to retain the leading \"0\"\n",
    "RACM_AB['UPN_A'] = RACM_AB['UPN_A'].apply(str)\n",
    "RACM_AB['UPN_B'] = RACM_AB['UPN_B'].apply(str)\n",
    "RACM_AB['IPN_A'] = RACM_AB['IPN_A'].apply(str)\n",
    "RACM_AB['IPN_B'] = RACM_AB['IPN_B'].apply(str)\n",
    "\n",
    "RACM_AB"
   ]
  },
  {
   "cell_type": "markdown",
   "id": "illegal-jackson",
   "metadata": {},
   "source": [
    "# 7. Request 2: Add GIM database to the joint RACM data from request 1"
   ]
  },
  {
   "cell_type": "markdown",
   "id": "equipped-standing",
   "metadata": {},
   "source": [
    "## 7.1 Join two dataframes(RACM_AB & GIM)"
   ]
  },
  {
   "cell_type": "code",
   "execution_count": null,
   "id": "0187def4",
   "metadata": {},
   "outputs": [],
   "source": [
    "GIM"
   ]
  },
  {
   "cell_type": "code",
   "execution_count": null,
   "id": "7ec873b2",
   "metadata": {},
   "outputs": [],
   "source": [
    "RACM_AB"
   ]
  },
  {
   "cell_type": "code",
   "execution_count": null,
   "id": "light-release",
   "metadata": {},
   "outputs": [],
   "source": [
    "#Join two dataframes(RACM_AB & GIM) with RACM_AB on the left and GIM on the right\n",
    "\n",
    "RACM_AB_GIM = RACM_AB.join(GIM)\n",
    "RACM_AB_GIM[\"index\"] = RACM_AB_GIM.index\n",
    "\n",
    "RACM_AB_GIM.info()"
   ]
  },
  {
   "cell_type": "markdown",
   "id": "united-things",
   "metadata": {},
   "source": [
    "## 7.2 Export data as a single file"
   ]
  },
  {
   "cell_type": "code",
   "execution_count": null,
   "id": "focal-webmaster",
   "metadata": {},
   "outputs": [],
   "source": [
    "path = r\"C:\\Users\\TNguyen5\\OneDrive - Stryker\\PYTHON\\Comparison\\Print_Dataset_RACM_Combined\\RACM_AB.csv\"\n",
    "RACM_AB_GIM.to_csv(path, index = True)\n",
    "\n",
    "RACM_AB_GIM.info()"
   ]
  },
  {
   "cell_type": "code",
   "execution_count": null,
   "id": "46fdd47e",
   "metadata": {},
   "outputs": [],
   "source": []
  },
  {
   "cell_type": "markdown",
   "id": "pending-implement",
   "metadata": {},
   "source": [
    "# 8. Request 3: Join RACM_A GIM and Join RACM_B to GIM"
   ]
  },
  {
   "cell_type": "markdown",
   "id": "typical-publicity",
   "metadata": {},
   "source": [
    "## 8.1 Reset Index"
   ]
  },
  {
   "cell_type": "code",
   "execution_count": null,
   "id": "developed-manor",
   "metadata": {},
   "outputs": [],
   "source": [
    "#Reset index\n",
    "RACM_A = pd.read_csv(r\"C:\\Users\\TNguyen5\\OneDrive - Stryker\\PYTHON\\Comparison\\Dataset_RACM_A_Oldest\\RACMUPDATE.txt\", sep='|', names=['Country Code', 'UPN', 'ConFig', 'Empty', 'Start Date', 'End Date'])\n",
    "\n",
    "#Take away leading \"0\" from the UPN. GIM data does not have leading \"0\" in their CatalogNumber(UPN)\n",
    "RACM_A[\"UPN\"]= RACM_A[\"UPN\"].apply(lambda x: x.lstrip(\"0\"))\n",
    "RACM_A[\"Original Data\"] = RACM_A_[\"Original Data\"]\n",
    "\n",
    "#Rest the index. This will help join with GIM data \n",
    "RACM_A.set_index(\"UPN\",inplace = True)\n",
    "\n",
    "\n",
    "RACM_A"
   ]
  },
  {
   "cell_type": "markdown",
   "id": "abstract-pride",
   "metadata": {},
   "source": [
    "## 8.2 Join RACM_A to GIM"
   ]
  },
  {
   "cell_type": "code",
   "execution_count": null,
   "id": "sporting-designer",
   "metadata": {
    "scrolled": true
   },
   "outputs": [],
   "source": [
    "RACM_A_GIM = RACM_A.join(GIM)\n",
    "RACM_A_GIM\n"
   ]
  },
  {
   "cell_type": "markdown",
   "id": "0bcef58f",
   "metadata": {},
   "source": [
    "## 8.3 Join RACM_B to GIM"
   ]
  },
  {
   "cell_type": "code",
   "execution_count": null,
   "id": "35548a14",
   "metadata": {},
   "outputs": [],
   "source": [
    "#Reset index\n",
    "RACM_B = pd.read_csv(r\"C:\\Users\\TNguyen5\\OneDrive - Stryker\\PYTHON\\Comparison\\Dataset_RACM_B_Newest\\RACMUPDATE.txt\", sep='|', names=['Country Code', 'UPN', 'ConFig', 'Empty', 'Start Date', 'End Date'])\n",
    "\n",
    "#Take away leading \"0\" from the UPN. GIM data does not have leading \"0\" in their CatalogNumber(UPN)\n",
    "RACM_B[\"UPN\"]= RACM_B[\"UPN\"].apply(lambda x: x.lstrip(\"0\"))\n",
    "\n",
    "####Added in 05JAN2022 to have the original data show up..... \n",
    "RACM_B[\"Original Data\"] = RACM_B_[\"Original Data\"]\n",
    "###########\n",
    "\n",
    "\n",
    "#Rest the index. This will help join with GIM data \n",
    "RACM_B.set_index(\"UPN\",inplace = True)\n",
    "\n",
    "\n",
    "RACM_B"
   ]
  },
  {
   "cell_type": "code",
   "execution_count": null,
   "id": "practical-mother",
   "metadata": {},
   "outputs": [],
   "source": [
    "RACM_B_GIM = RACM_B.join(GIM)\n",
    "RACM_B_GIM"
   ]
  },
  {
   "cell_type": "code",
   "execution_count": null,
   "id": "graduate-offer",
   "metadata": {},
   "outputs": [],
   "source": [
    "GIM"
   ]
  },
  {
   "cell_type": "markdown",
   "id": "applicable-inflation",
   "metadata": {},
   "source": [
    "## 8.4 Export RACM Data with GIM Data"
   ]
  },
  {
   "cell_type": "code",
   "execution_count": null,
   "id": "specialized-certificate",
   "metadata": {},
   "outputs": [],
   "source": [
    "# Export RACM A + GIM Dataset\n",
    "path = \"C:\\\\Users\\\\TNguyen5\\\\OneDrive - Stryker\\\\PYTHON\\\\Comparison\\\\Print_Dataset_RACM_A_GIM\\\\RACM_A_GIM.csv\"\n",
    "RACM_A_GIM.to_csv(path, index = False)"
   ]
  },
  {
   "cell_type": "code",
   "execution_count": null,
   "id": "impressive-nickel",
   "metadata": {},
   "outputs": [],
   "source": [
    "# Export RACM B + GIM Dataset\n",
    "path = \"C:\\\\Users\\\\TNguyen5\\\\OneDrive - Stryker\\\\PYTHON\\\\Comparison\\\\Print_Dataset_RACM_B_GIM\\\\RACM_B_GIM.csv\"\n",
    "RACM_B_GIM.to_csv(path, index = False)"
   ]
  },
  {
   "cell_type": "code",
   "execution_count": null,
   "id": "5d794dce",
   "metadata": {},
   "outputs": [],
   "source": [
    "# Export RACM A + GIM Dataset split into Multiple Files\n",
    "for X in List_of_Countries:\n",
    "    path = \"C:\\\\Users\\\\TNguyen5\\\\OneDrive - Stryker\\\\PYTHON\\\\Comparison\\\\Print_Dataset_RACM_A_GIM_CountrySplit\\\\\" + X + \"_GIM.csv\"\n",
    "    X = RACM_A_GIM[(RACM_A_GIM[\"Country Code\"]==X)] \n",
    "    X.to_csv(path, index = False)  "
   ]
  },
  {
   "cell_type": "code",
   "execution_count": null,
   "id": "9c090677",
   "metadata": {},
   "outputs": [],
   "source": [
    "# Export RACM B + GIM Dataset split into Multiple Files\n",
    "for X in List_of_Countries:\n",
    "    path = \"C:\\\\Users\\\\TNguyen5\\\\OneDrive - Stryker\\\\PYTHON\\\\Comparison\\\\Print_Dataset_RACM_B_GIM_CountrySplit\\\\\" + X + \"_GIM.csv\"\n",
    "    X = RACM_B_GIM[(RACM_B_GIM[\"Country Code\"]==X)] \n",
    "    X.to_csv(path, index = False)  "
   ]
  },
  {
   "cell_type": "code",
   "execution_count": null,
   "id": "frozen-termination",
   "metadata": {},
   "outputs": [],
   "source": [
    "# Export RACM_AB_GIM Dataset Multiple Files\n",
    "for X in List_of_Countries:\n",
    "    path = \"C:\\\\Users\\\\TNguyen5\\\\OneDrive - Stryker\\\\PYTHON\\\\Comparison\\\\Print_Dataset_RACM_AB_GIM_CountrySplit\\\\\" + X + \"_GIM.csv\"\n",
    "    X = RACM_AB_GIM[(RACM_AB_GIM[\"Country Code\"]==X)] \n",
    "    X.to_csv(path, index = False)  "
   ]
  },
  {
   "cell_type": "code",
   "execution_count": null,
   "id": "dental-christopher",
   "metadata": {},
   "outputs": [],
   "source": [
    "# Export RACM Dataset #2 Multiple Files\n",
    "for X in List_of_Countries:\n",
    "    path = \"C:\\\\Users\\\\kcheung1\\\\Code\\\\Project - Quickbase\\\\Export_all\\\\\" + X + \".csv\"\n",
    "    X = RAC_042021_GIM[(RAC_042021_GIM[\"Country Code\"]==X)] \n",
    "    X.to_csv(path, index = False)  "
   ]
  },
  {
   "cell_type": "markdown",
   "id": "superb-latvia",
   "metadata": {},
   "source": [
    "THE END"
   ]
  },
  {
   "cell_type": "code",
   "execution_count": null,
   "id": "30cd6739",
   "metadata": {},
   "outputs": [],
   "source": []
  }
 ],
 "metadata": {
  "kernelspec": {
   "display_name": "Python 3",
   "language": "python",
   "name": "python3"
  },
  "language_info": {
   "codemirror_mode": {
    "name": "ipython",
    "version": 3
   },
   "file_extension": ".py",
   "mimetype": "text/x-python",
   "name": "python",
   "nbconvert_exporter": "python",
   "pygments_lexer": "ipython3",
   "version": "3.9.4"
  }
 },
 "nbformat": 4,
 "nbformat_minor": 5
}
